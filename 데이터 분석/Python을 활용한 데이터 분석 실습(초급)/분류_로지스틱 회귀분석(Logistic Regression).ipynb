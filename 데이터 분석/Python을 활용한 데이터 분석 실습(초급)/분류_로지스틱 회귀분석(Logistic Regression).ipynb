{
 "cells": [
  {
   "cell_type": "markdown",
   "id": "a08b0024",
   "metadata": {},
   "source": [
    "# 로지스틱 회귀분석\n",
    "## 로지스틱 회귀분석 특징\n",
    "- 이항 로지스틱 회귀 분석은 종속변수가 0과 1이며 베르누이 분포를 따를 경우 사용\n",
    "- 모델의 산출 값은 각 데이터가 1이 될 확률이며 이진 분류를 위해서 경계값(threshold)이 필요\n",
    "- 모델 평가를 위해 각종 분류 관련 지표 및 AUC 활용\n",
    "\n",
    "## 승산비(OR, Odds Ratio)\n",
    "- 특정 독립변수를 제외한 나머지 값을 고정하고 해당 독립변수가 1증가시 변화하는 승산(odds)의 비\n",
    "\n",
    "## 주요 함수 및 메서드\n",
    "__statsmodels-Logit()__\n",
    "- endog, exog 인자에 각각 종속변수와 독립변수 할당\n",
    "- 산출 모델 객체의 params 어트리뷰트에 모델 계수 저장\n",
    "- 산출 모델 객체의 predict() 메서드로 예측값 생산. 이는 종속변수가 1이 될 확률값\n",
    "\n",
    "__sklearn-LogisticRegression__\n",
    "- fit_intercept, solver 인자로 절편 적합 여부 및 최적화 알고리즘 설정 가능\n",
    "- 산출 모델 객체의 coef_ 어트리뷰트에 모델의 계수 저장\n",
    "- 산출 모델 객체의 predict_proba()메서드로 예측값 생산"
   ]
  },
  {
   "cell_type": "code",
   "execution_count": 25,
   "id": "55a894a2",
   "metadata": {},
   "outputs": [],
   "source": [
    "import pandas as pd\n",
    "import numpy as np\n",
    "from statsmodels.api import Logit\n",
    "from sklearn.linear_model import LogisticRegression\n",
    "from sklearn.metrics import accuracy_score\n",
    "from sklearn.metrics import roc_auc_score"
   ]
  },
  {
   "cell_type": "code",
   "execution_count": 2,
   "id": "2035d01c",
   "metadata": {},
   "outputs": [],
   "source": [
    "df = pd.read_csv(\"Data/iris.csv\")"
   ]
  },
  {
   "cell_type": "code",
   "execution_count": 3,
   "id": "f3dc6381",
   "metadata": {},
   "outputs": [
    {
     "data": {
      "text/plain": [
       "array(['setosa', 'versicolor', 'virginica'], dtype=object)"
      ]
     },
     "execution_count": 3,
     "metadata": {},
     "output_type": "execute_result"
    }
   ],
   "source": [
    "df[\"Species\"].unique()"
   ]
  },
  {
   "cell_type": "code",
   "execution_count": 4,
   "id": "9ab55867",
   "metadata": {},
   "outputs": [
    {
     "data": {
      "text/html": [
       "<div>\n",
       "<style scoped>\n",
       "    .dataframe tbody tr th:only-of-type {\n",
       "        vertical-align: middle;\n",
       "    }\n",
       "\n",
       "    .dataframe tbody tr th {\n",
       "        vertical-align: top;\n",
       "    }\n",
       "\n",
       "    .dataframe thead th {\n",
       "        text-align: right;\n",
       "    }\n",
       "</style>\n",
       "<table border=\"1\" class=\"dataframe\">\n",
       "  <thead>\n",
       "    <tr style=\"text-align: right;\">\n",
       "      <th></th>\n",
       "      <th>Sepal.Length</th>\n",
       "      <th>Sepal.Width</th>\n",
       "      <th>Petal.Length</th>\n",
       "      <th>Petal.Width</th>\n",
       "      <th>Species</th>\n",
       "      <th>is_setosa</th>\n",
       "    </tr>\n",
       "  </thead>\n",
       "  <tbody>\n",
       "    <tr>\n",
       "      <th>0</th>\n",
       "      <td>5.1</td>\n",
       "      <td>3.5</td>\n",
       "      <td>1.4</td>\n",
       "      <td>0.2</td>\n",
       "      <td>setosa</td>\n",
       "      <td>1</td>\n",
       "    </tr>\n",
       "    <tr>\n",
       "      <th>1</th>\n",
       "      <td>4.9</td>\n",
       "      <td>3.0</td>\n",
       "      <td>1.4</td>\n",
       "      <td>0.2</td>\n",
       "      <td>setosa</td>\n",
       "      <td>1</td>\n",
       "    </tr>\n",
       "  </tbody>\n",
       "</table>\n",
       "</div>"
      ],
      "text/plain": [
       "   Sepal.Length  Sepal.Width  Petal.Length  Petal.Width Species  is_setosa\n",
       "0           5.1          3.5           1.4          0.2  setosa          1\n",
       "1           4.9          3.0           1.4          0.2  setosa          1"
      ]
     },
     "execution_count": 4,
     "metadata": {},
     "output_type": "execute_result"
    }
   ],
   "source": [
    "df[\"is_setosa\"] = (df[\"Species\"] == \"setosa\") + 0\n",
    "df.head(2)"
   ]
  },
  {
   "cell_type": "code",
   "execution_count": 6,
   "id": "efce2974",
   "metadata": {},
   "outputs": [
    {
     "data": {
      "text/html": [
       "<div>\n",
       "<style scoped>\n",
       "    .dataframe tbody tr th:only-of-type {\n",
       "        vertical-align: middle;\n",
       "    }\n",
       "\n",
       "    .dataframe tbody tr th {\n",
       "        vertical-align: top;\n",
       "    }\n",
       "\n",
       "    .dataframe thead th {\n",
       "        text-align: right;\n",
       "    }\n",
       "</style>\n",
       "<table border=\"1\" class=\"dataframe\">\n",
       "  <thead>\n",
       "    <tr style=\"text-align: right;\">\n",
       "      <th></th>\n",
       "      <th>Sepal.Length</th>\n",
       "      <th>Sepal.Width</th>\n",
       "    </tr>\n",
       "  </thead>\n",
       "  <tbody>\n",
       "    <tr>\n",
       "      <th>0</th>\n",
       "      <td>5.1</td>\n",
       "      <td>3.5</td>\n",
       "    </tr>\n",
       "    <tr>\n",
       "      <th>1</th>\n",
       "      <td>4.9</td>\n",
       "      <td>3.0</td>\n",
       "    </tr>\n",
       "  </tbody>\n",
       "</table>\n",
       "</div>"
      ],
      "text/plain": [
       "   Sepal.Length  Sepal.Width\n",
       "0           5.1          3.5\n",
       "1           4.9          3.0"
      ]
     },
     "execution_count": 6,
     "metadata": {},
     "output_type": "execute_result"
    }
   ],
   "source": [
    "df.iloc[:2, :2]"
   ]
  },
  {
   "cell_type": "code",
   "execution_count": 5,
   "id": "ba7c44ec",
   "metadata": {},
   "outputs": [
    {
     "name": "stdout",
     "output_type": "stream",
     "text": [
      "Optimization terminated successfully.\n",
      "         Current function value: 0.036374\n",
      "         Iterations 11\n"
     ]
    },
    {
     "data": {
      "text/plain": [
       "<statsmodels.discrete.discrete_model.BinaryResultsWrapper at 0x1f8b6726a60>"
      ]
     },
     "execution_count": 5,
     "metadata": {},
     "output_type": "execute_result"
    }
   ],
   "source": [
    "model = Logit(endog = df[\"is_setosa\"],\n",
    "              exog = df.iloc[:, :2]).fit()\n",
    "model"
   ]
  },
  {
   "cell_type": "code",
   "execution_count": 7,
   "id": "3a497e9c",
   "metadata": {},
   "outputs": [
    {
     "data": {
      "text/plain": [
       "Sepal.Length    -7.529945\n",
       "Sepal.Width     13.130734\n",
       "dtype: float64"
      ]
     },
     "execution_count": 7,
     "metadata": {},
     "output_type": "execute_result"
    }
   ],
   "source": [
    "model.params"
   ]
  },
  {
   "cell_type": "code",
   "execution_count": 8,
   "id": "dd6f53af",
   "metadata": {},
   "outputs": [
    {
     "data": {
      "text/plain": [
       "Sepal.Length    0.000828\n",
       "Sepal.Width     0.000989\n",
       "dtype: float64"
      ]
     },
     "execution_count": 8,
     "metadata": {},
     "output_type": "execute_result"
    }
   ],
   "source": [
    "model.pvalues"
   ]
  },
  {
   "cell_type": "code",
   "execution_count": 9,
   "id": "83d0f017",
   "metadata": {},
   "outputs": [
    {
     "data": {
      "text/plain": [
       "Sepal.Length   -3.343109\n",
       "Sepal.Width     3.293594\n",
       "dtype: float64"
      ]
     },
     "execution_count": 9,
     "metadata": {},
     "output_type": "execute_result"
    }
   ],
   "source": [
    "model.tvalues"
   ]
  },
  {
   "cell_type": "code",
   "execution_count": 11,
   "id": "c7e9f636",
   "metadata": {},
   "outputs": [
    {
     "data": {
      "text/plain": [
       "0    0.999477\n",
       "1    0.923824\n",
       "2    0.998678\n",
       "dtype: float64"
      ]
     },
     "execution_count": 11,
     "metadata": {},
     "output_type": "execute_result"
    }
   ],
   "source": [
    "pred = model.predict(df.iloc[:3, :2])\n",
    "pred"
   ]
  },
  {
   "cell_type": "code",
   "execution_count": 12,
   "id": "713f483a",
   "metadata": {},
   "outputs": [
    {
     "data": {
      "text/plain": [
       "0    1\n",
       "1    1\n",
       "2    1\n",
       "dtype: int32"
      ]
     },
     "execution_count": 12,
     "metadata": {},
     "output_type": "execute_result"
    }
   ],
   "source": [
    "(pred > 0.5) + 0"
   ]
  },
  {
   "cell_type": "code",
   "execution_count": 14,
   "id": "2cb8c26e",
   "metadata": {},
   "outputs": [
    {
     "data": {
      "text/plain": [
       "LogisticRegression(random_state=123)"
      ]
     },
     "execution_count": 14,
     "metadata": {},
     "output_type": "execute_result"
    }
   ],
   "source": [
    "model = LogisticRegression(random_state = 123)\n",
    "model.fit(X = df.iloc[:, :2],\n",
    "          y = df[\"is_setosa\"])\n",
    "model"
   ]
  },
  {
   "cell_type": "code",
   "execution_count": 16,
   "id": "c90e6420",
   "metadata": {},
   "outputs": [
    {
     "data": {
      "text/plain": [
       "array([[-3.38829757,  3.1645277 ]])"
      ]
     },
     "execution_count": 16,
     "metadata": {},
     "output_type": "execute_result"
    }
   ],
   "source": [
    "model.coef_"
   ]
  },
  {
   "cell_type": "code",
   "execution_count": 15,
   "id": "6488910a",
   "metadata": {},
   "outputs": [
    {
     "data": {
      "text/plain": [
       "array([8.32330389])"
      ]
     },
     "execution_count": 15,
     "metadata": {},
     "output_type": "execute_result"
    }
   ],
   "source": [
    "model.intercept_"
   ]
  },
  {
   "cell_type": "code",
   "execution_count": 19,
   "id": "11ac7cf0",
   "metadata": {},
   "outputs": [
    {
     "data": {
      "text/plain": [
       "array([0.89272024, 0.77104635, 0.92586179])"
      ]
     },
     "execution_count": 19,
     "metadata": {},
     "output_type": "execute_result"
    }
   ],
   "source": [
    "pred = model.predict_proba(df.iloc[:3, :2])\n",
    "pred = pred[:, 1]\n",
    "pred"
   ]
  },
  {
   "cell_type": "code",
   "execution_count": 20,
   "id": "3552b774",
   "metadata": {},
   "outputs": [
    {
     "data": {
      "text/plain": [
       "array([1, 1, 1])"
      ]
     },
     "execution_count": 20,
     "metadata": {},
     "output_type": "execute_result"
    }
   ],
   "source": [
    "(pred > 0.5) + 0"
   ]
  },
  {
   "cell_type": "code",
   "execution_count": 22,
   "id": "cfb813c7",
   "metadata": {},
   "outputs": [
    {
     "data": {
      "text/plain": [
       "array([0.89272024, 0.77104635, 0.92586179, 0.92738323, 0.94126096,\n",
       "       0.91436651, 0.97058885, 0.89484454, 0.93034007, 0.82210603])"
      ]
     },
     "execution_count": 22,
     "metadata": {},
     "output_type": "execute_result"
    }
   ],
   "source": [
    "pred = model.predict_proba(df.iloc[:, :2])\n",
    "pred = pred[:, 1]\n",
    "pred[:10]"
   ]
  },
  {
   "cell_type": "code",
   "execution_count": 24,
   "id": "fc24e183",
   "metadata": {},
   "outputs": [
    {
     "data": {
      "text/plain": [
       "0.9999999999999999"
      ]
     },
     "execution_count": 24,
     "metadata": {},
     "output_type": "execute_result"
    }
   ],
   "source": [
    "roc_auc_score(y_true = df[\"is_setosa\"],\n",
    "              y_score = pred)"
   ]
  },
  {
   "cell_type": "code",
   "execution_count": 29,
   "id": "8d6ab085",
   "metadata": {},
   "outputs": [
    {
     "data": {
      "text/plain": [
       "0.8333333333333334"
      ]
     },
     "execution_count": 29,
     "metadata": {},
     "output_type": "execute_result"
    }
   ],
   "source": [
    "accuracy_score(y_true = df[\"is_setosa\"],\n",
    "               y_pred = (pred > 0.9) + 0)"
   ]
  },
  {
   "cell_type": "markdown",
   "id": "940d1300",
   "metadata": {},
   "source": [
    "# 문제"
   ]
  },
  {
   "cell_type": "code",
   "execution_count": 33,
   "id": "d4ca2c86",
   "metadata": {},
   "outputs": [],
   "source": [
    "# =======================================\n",
    "# 1. 독립변수를 혈압, 혈당, BMI, 인슐린으로\n",
    "# 종속변수를 당뇨여부로 할 경우 분류 정확도는?\n",
    "\n",
    "# diabetes.csv\n",
    "# statsmodels 함수 사용\n",
    "# train:test = 8:2\n",
    "# seed = 123\n",
    "\n",
    "# 정답: 0.70\n",
    "# =======================================\n",
    "df = pd.read_csv(\"Data/diabetes.csv\")"
   ]
  },
  {
   "cell_type": "code",
   "execution_count": 34,
   "id": "cb2f1708",
   "metadata": {},
   "outputs": [],
   "source": [
    "from sklearn.model_selection import train_test_split"
   ]
  },
  {
   "cell_type": "code",
   "execution_count": 35,
   "id": "aaeb710a",
   "metadata": {},
   "outputs": [
    {
     "data": {
      "text/html": [
       "<div>\n",
       "<style scoped>\n",
       "    .dataframe tbody tr th:only-of-type {\n",
       "        vertical-align: middle;\n",
       "    }\n",
       "\n",
       "    .dataframe tbody tr th {\n",
       "        vertical-align: top;\n",
       "    }\n",
       "\n",
       "    .dataframe thead th {\n",
       "        text-align: right;\n",
       "    }\n",
       "</style>\n",
       "<table border=\"1\" class=\"dataframe\">\n",
       "  <thead>\n",
       "    <tr style=\"text-align: right;\">\n",
       "      <th></th>\n",
       "      <th>Pregnancies</th>\n",
       "      <th>Glucose</th>\n",
       "      <th>BloodPressure</th>\n",
       "      <th>SkinThickness</th>\n",
       "      <th>Insulin</th>\n",
       "      <th>BMI</th>\n",
       "      <th>DiabetesPedigreeFunction</th>\n",
       "      <th>Age</th>\n",
       "      <th>Outcome</th>\n",
       "    </tr>\n",
       "  </thead>\n",
       "  <tbody>\n",
       "    <tr>\n",
       "      <th>318</th>\n",
       "      <td>3</td>\n",
       "      <td>115</td>\n",
       "      <td>66</td>\n",
       "      <td>39</td>\n",
       "      <td>140</td>\n",
       "      <td>38.1</td>\n",
       "      <td>0.150</td>\n",
       "      <td>28</td>\n",
       "      <td>0</td>\n",
       "    </tr>\n",
       "    <tr>\n",
       "      <th>313</th>\n",
       "      <td>3</td>\n",
       "      <td>113</td>\n",
       "      <td>50</td>\n",
       "      <td>10</td>\n",
       "      <td>85</td>\n",
       "      <td>29.5</td>\n",
       "      <td>0.626</td>\n",
       "      <td>25</td>\n",
       "      <td>0</td>\n",
       "    </tr>\n",
       "  </tbody>\n",
       "</table>\n",
       "</div>"
      ],
      "text/plain": [
       "     Pregnancies  Glucose  BloodPressure  SkinThickness  Insulin   BMI  \\\n",
       "318            3      115             66             39      140  38.1   \n",
       "313            3      113             50             10       85  29.5   \n",
       "\n",
       "     DiabetesPedigreeFunction  Age  Outcome  \n",
       "318                     0.150   28        0  \n",
       "313                     0.626   25        0  "
      ]
     },
     "execution_count": 35,
     "metadata": {},
     "output_type": "execute_result"
    }
   ],
   "source": [
    "df_train, df_test = train_test_split(df, train_size = 0.8, random_state = 123)\n",
    "df_train.head(2)"
   ]
  },
  {
   "cell_type": "code",
   "execution_count": 37,
   "id": "829d3b84",
   "metadata": {},
   "outputs": [
    {
     "name": "stdout",
     "output_type": "stream",
     "text": [
      "Optimization terminated successfully.\n",
      "         Current function value: 0.626579\n",
      "         Iterations 5\n"
     ]
    }
   ],
   "source": [
    "model = Logit(endog = df_train[\"Outcome\"],\n",
    "              exog = df_train.loc[:, [\"BloodPressure\", \"Glucose\", \"BMI\", \"Insulin\"]]).fit()"
   ]
  },
  {
   "cell_type": "code",
   "execution_count": 38,
   "id": "59847e87",
   "metadata": {},
   "outputs": [
    {
     "data": {
      "text/plain": [
       "236    0.462956\n",
       "395    0.507051\n",
       "36     0.359735\n",
       "210    0.314389\n",
       "dtype: float64"
      ]
     },
     "execution_count": 38,
     "metadata": {},
     "output_type": "execute_result"
    }
   ],
   "source": [
    "pred = model.predict(exog = df_test.loc[:, [\"BloodPressure\", \"Glucose\", \"BMI\", \"Insulin\"]])\n",
    "pred[:4]"
   ]
  },
  {
   "cell_type": "code",
   "execution_count": 39,
   "id": "89b3ae8a",
   "metadata": {},
   "outputs": [
    {
     "data": {
      "text/plain": [
       "236    0\n",
       "395    1\n",
       "36     0\n",
       "210    0\n",
       "dtype: int32"
      ]
     },
     "execution_count": 39,
     "metadata": {},
     "output_type": "execute_result"
    }
   ],
   "source": [
    "pred_class = (pred > 0.5) + 0\n",
    "pred_class[:4]"
   ]
  },
  {
   "cell_type": "code",
   "execution_count": 40,
   "id": "14eb9c54",
   "metadata": {},
   "outputs": [
    {
     "data": {
      "text/plain": [
       "0.7012987012987013"
      ]
     },
     "execution_count": 40,
     "metadata": {},
     "output_type": "execute_result"
    }
   ],
   "source": [
    "accuracy_score(y_pred = pred_class, y_true = df_test[\"Outcome\"])"
   ]
  },
  {
   "cell_type": "code",
   "execution_count": 41,
   "id": "e7849f2e",
   "metadata": {},
   "outputs": [],
   "source": [
    "# =======================================\n",
    "# 2. 독립변수를 혈당, BMI, 나이로 하고\n",
    "# 종속변수를 당뇨여부로 할 경우 나이의 승산비는 얼마?\n",
    "\n",
    "# diabetes.csv\n",
    "# statsmodels 함수 사용\n",
    "\n",
    "# 정답: 0.99\n",
    "# =======================================\n",
    "df = pd.read_csv(\"Data/diabetes.csv\")"
   ]
  },
  {
   "cell_type": "code",
   "execution_count": 42,
   "id": "7bcc5a3b",
   "metadata": {},
   "outputs": [
    {
     "name": "stdout",
     "output_type": "stream",
     "text": [
      "Optimization terminated successfully.\n",
      "         Current function value: 0.656276\n",
      "         Iterations 4\n"
     ]
    },
    {
     "data": {
      "text/plain": [
       "Glucose    0.009368\n",
       "BMI       -0.035639\n",
       "Age       -0.012898\n",
       "dtype: float64"
      ]
     },
     "execution_count": 42,
     "metadata": {},
     "output_type": "execute_result"
    }
   ],
   "source": [
    "model = Logit(endog = df[\"Outcome\"],\n",
    "              exog = df.loc[:, [\"Glucose\", \"BMI\", \"Age\"]]).fit()\n",
    "model.params"
   ]
  },
  {
   "cell_type": "code",
   "execution_count": 43,
   "id": "6b9513e2",
   "metadata": {},
   "outputs": [
    {
     "data": {
      "text/plain": [
       "Glucose    1.009412\n",
       "BMI        0.964989\n",
       "Age        0.987184\n",
       "dtype: float64"
      ]
     },
     "execution_count": 43,
     "metadata": {},
     "output_type": "execute_result"
    }
   ],
   "source": [
    "np.exp(model.params)"
   ]
  },
  {
   "cell_type": "code",
   "execution_count": 44,
   "id": "71a27d06",
   "metadata": {},
   "outputs": [],
   "source": [
    "# =======================================\n",
    "# 3. 독립변수를 혈당, BMI, 나이로 하고\n",
    "# 종속변수를 당뇨 여부로 할 경우 모델의 AUC?\n",
    "\n",
    "# diabetes.csv\n",
    "# statsmodels 함수 사용\n",
    "\n",
    "# 정답: 0.54\n",
    "# =======================================\n",
    "df = pd.read_csv(\"Data/diabetes.csv\")"
   ]
  },
  {
   "cell_type": "code",
   "execution_count": 45,
   "id": "84265263",
   "metadata": {},
   "outputs": [
    {
     "name": "stdout",
     "output_type": "stream",
     "text": [
      "Optimization terminated successfully.\n",
      "         Current function value: 0.656276\n",
      "         Iterations 4\n"
     ]
    }
   ],
   "source": [
    "model = Logit(endog = df[\"Outcome\"],\n",
    "              exog = df.loc[:, [\"Glucose\", \"BMI\", \"Age\"]]).fit()"
   ]
  },
  {
   "cell_type": "code",
   "execution_count": 46,
   "id": "ca6c2420",
   "metadata": {},
   "outputs": [
    {
     "data": {
      "text/plain": [
       "0    0.387961\n",
       "1    0.365506\n",
       "2    0.615678\n",
       "3    0.392087\n",
       "4    0.336654\n",
       "dtype: float64"
      ]
     },
     "execution_count": 46,
     "metadata": {},
     "output_type": "execute_result"
    }
   ],
   "source": [
    "model.predict(df.loc[:, [\"Glucose\", \"BMI\", \"Age\"]])[:5]"
   ]
  },
  {
   "cell_type": "code",
   "execution_count": 48,
   "id": "722816ff",
   "metadata": {},
   "outputs": [
    {
     "data": {
      "text/plain": [
       "0.5414253731343283"
      ]
     },
     "execution_count": 48,
     "metadata": {},
     "output_type": "execute_result"
    }
   ],
   "source": [
    "roc_auc_score (y_true = df[\"Outcome\"],\n",
    "               y_score = model.predict(df.loc[:, [\"Glucose\", \"BMI\", \"Age\"]]))"
   ]
  }
 ],
 "metadata": {
  "kernelspec": {
   "display_name": "Python 3 (ipykernel)",
   "language": "python",
   "name": "python3"
  },
  "language_info": {
   "codemirror_mode": {
    "name": "ipython",
    "version": 3
   },
   "file_extension": ".py",
   "mimetype": "text/x-python",
   "name": "python",
   "nbconvert_exporter": "python",
   "pygments_lexer": "ipython3",
   "version": "3.9.7"
  }
 },
 "nbformat": 4,
 "nbformat_minor": 5
}
