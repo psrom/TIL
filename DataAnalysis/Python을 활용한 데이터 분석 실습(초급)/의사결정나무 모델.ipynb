{
 "cells": [
  {
   "cell_type": "markdown",
   "id": "1916af5e",
   "metadata": {},
   "source": [
    "# 의사결정나무 모델\n",
    "## 분류 나무(Classification Tree)\n",
    "- 종속변수가 __명목형__ 인 경우 사용하는 의사결정나무 모델\n",
    "- 각 노드 분류 알고리즘은 이진 분류 시 지니지수(Gini Index) 기반의 CART 사용\n",
    "- 과적합 방지 및 모델 단순화를 위해 Depth, Impurity등 관련 설정 활용\n",
    "\n",
    "## 회귀 나무(Regression Tree)\n",
    "- 종속변수가 __연속형__ 인 경우 사용하는 의사결정나무 모델\n",
    "- 각 노드 분류에는 평균, 표준편차 활용\n",
    "- 과적합 방지 및 모델 단순화를 위해 Depth, Impurity등 관련 설정 활용\n",
    "\n",
    "## 주요 함수 및 메서드\n",
    "__sklearn-DecisionTreeClassifier()__\n",
    "\n",
    "__sklearn-DecisionTreeRegressor()__"
   ]
  },
  {
   "cell_type": "code",
   "execution_count": 1,
   "id": "00bdbc15",
   "metadata": {},
   "outputs": [],
   "source": [
    "import pandas as pd\n",
    "from sklearn.tree import DecisionTreeClassifier\n",
    "from sklearn.tree import DecisionTreeRegressor"
   ]
  },
  {
   "cell_type": "code",
   "execution_count": 2,
   "id": "5866c640",
   "metadata": {},
   "outputs": [],
   "source": [
    "df = pd.read_csv(\"Data/iris.csv\")"
   ]
  },
  {
   "cell_type": "code",
   "execution_count": 4,
   "id": "4d71addf",
   "metadata": {},
   "outputs": [
    {
     "data": {
      "text/html": [
       "<div>\n",
       "<style scoped>\n",
       "    .dataframe tbody tr th:only-of-type {\n",
       "        vertical-align: middle;\n",
       "    }\n",
       "\n",
       "    .dataframe tbody tr th {\n",
       "        vertical-align: top;\n",
       "    }\n",
       "\n",
       "    .dataframe thead th {\n",
       "        text-align: right;\n",
       "    }\n",
       "</style>\n",
       "<table border=\"1\" class=\"dataframe\">\n",
       "  <thead>\n",
       "    <tr style=\"text-align: right;\">\n",
       "      <th></th>\n",
       "      <th>Sepal.Length</th>\n",
       "      <th>Sepal.Width</th>\n",
       "      <th>Petal.Length</th>\n",
       "      <th>Petal.Width</th>\n",
       "      <th>Species</th>\n",
       "      <th>is_setosa</th>\n",
       "    </tr>\n",
       "  </thead>\n",
       "  <tbody>\n",
       "    <tr>\n",
       "      <th>0</th>\n",
       "      <td>5.1</td>\n",
       "      <td>3.5</td>\n",
       "      <td>1.4</td>\n",
       "      <td>0.2</td>\n",
       "      <td>setosa</td>\n",
       "      <td>1</td>\n",
       "    </tr>\n",
       "    <tr>\n",
       "      <th>1</th>\n",
       "      <td>4.9</td>\n",
       "      <td>3.0</td>\n",
       "      <td>1.4</td>\n",
       "      <td>0.2</td>\n",
       "      <td>setosa</td>\n",
       "      <td>1</td>\n",
       "    </tr>\n",
       "  </tbody>\n",
       "</table>\n",
       "</div>"
      ],
      "text/plain": [
       "   Sepal.Length  Sepal.Width  Petal.Length  Petal.Width Species  is_setosa\n",
       "0           5.1          3.5           1.4          0.2  setosa          1\n",
       "1           4.9          3.0           1.4          0.2  setosa          1"
      ]
     },
     "execution_count": 4,
     "metadata": {},
     "output_type": "execute_result"
    }
   ],
   "source": [
    "df[\"is_setosa\"] = (df[\"Species\"] == \"setosa\") + 0\n",
    "df.head(2)"
   ]
  },
  {
   "cell_type": "code",
   "execution_count": 5,
   "id": "989a02d8",
   "metadata": {},
   "outputs": [
    {
     "data": {
      "text/plain": [
       "DecisionTreeClassifier(random_state=123)"
      ]
     },
     "execution_count": 5,
     "metadata": {},
     "output_type": "execute_result"
    }
   ],
   "source": [
    "model_c = DecisionTreeClassifier(random_state=123)\n",
    "model_c.fit(X = df.iloc[:, :4],\n",
    "            y = df[\"is_setosa\"])\n",
    "model_c"
   ]
  },
  {
   "cell_type": "code",
   "execution_count": 6,
   "id": "3ead5818",
   "metadata": {},
   "outputs": [
    {
     "data": {
      "text/plain": [
       "array([1, 1, 1, 1])"
      ]
     },
     "execution_count": 6,
     "metadata": {},
     "output_type": "execute_result"
    }
   ],
   "source": [
    "pred_c = model_c.predict(df.iloc[:, :4])\n",
    "pred_c[:4]"
   ]
  },
  {
   "cell_type": "code",
   "execution_count": 8,
   "id": "6b617cec",
   "metadata": {},
   "outputs": [],
   "source": [
    "# 3개 이상일 때는 predict_proba\n",
    "# pred_c = model_c.predict_proba(df.iloc[:, :4])\n",
    "# pred_c"
   ]
  },
  {
   "cell_type": "code",
   "execution_count": 9,
   "id": "03ab340a",
   "metadata": {},
   "outputs": [
    {
     "data": {
      "text/plain": [
       "array([0.25, 0.2 , 0.2 , 0.2 ])"
      ]
     },
     "execution_count": 9,
     "metadata": {},
     "output_type": "execute_result"
    }
   ],
   "source": [
    "model_r = DecisionTreeRegressor(random_state=123)\n",
    "model_r.fit(X = df.iloc[:, :3],\n",
    "            y = df[\"Petal.Width\"])\n",
    "pred_r = model_r.predict(df.iloc[:, :3])\n",
    "pred_r[:4]"
   ]
  },
  {
   "cell_type": "markdown",
   "id": "d3bc4583",
   "metadata": {},
   "source": [
    "# 문제"
   ]
  },
  {
   "cell_type": "code",
   "execution_count": 10,
   "id": "8f016337",
   "metadata": {},
   "outputs": [],
   "source": [
    "# ====================================================\n",
    "# 1. 당뇨병 발병 여부를 예측하기 위하여 의사결정나무를 사용하고자 한다.\n",
    "# 이 때 혈당, 혈압, 임신 횟수를 기반으로 예측을 했을 때 예측 정확도는?\n",
    "\n",
    "# 정답: 63%\n",
    "# ====================================================\n",
    "df = pd.read_csv(\"Data/diabetes.csv\")"
   ]
  },
  {
   "cell_type": "code",
   "execution_count": 11,
   "id": "b53997ec",
   "metadata": {},
   "outputs": [],
   "source": [
    "from sklearn.model_selection import train_test_split\n",
    "df_train, df_test = train_test_split(df, train_size=0.8, random_state = 123)"
   ]
  },
  {
   "cell_type": "code",
   "execution_count": 12,
   "id": "edc7268e",
   "metadata": {},
   "outputs": [
    {
     "data": {
      "text/plain": [
       "array([1, 0, 1, 0], dtype=int64)"
      ]
     },
     "execution_count": 12,
     "metadata": {},
     "output_type": "execute_result"
    }
   ],
   "source": [
    "model = DecisionTreeClassifier(random_state = 123).fit(X = df_train.loc[:, [\"Glucose\", \"BloodPressure\", \"Pregnancies\"]],\n",
    "                                                       y = df_train[\"Outcome\"])\n",
    "pred = model.predict(df_test.loc[:, [\"Glucose\", \"BloodPressure\", \"Pregnancies\"]])\n",
    "pred[:4]"
   ]
  },
  {
   "cell_type": "code",
   "execution_count": 14,
   "id": "f34c5511",
   "metadata": {},
   "outputs": [],
   "source": [
    "from sklearn.metrics import accuracy_score"
   ]
  },
  {
   "cell_type": "code",
   "execution_count": 15,
   "id": "7b1d56bf",
   "metadata": {},
   "outputs": [
    {
     "data": {
      "text/plain": [
       "0.6298701298701299"
      ]
     },
     "execution_count": 15,
     "metadata": {},
     "output_type": "execute_result"
    }
   ],
   "source": [
    "accuracy_score(y_pred = pred, y_true = df_test[\"Outcome\"])"
   ]
  },
  {
   "cell_type": "code",
   "execution_count": 16,
   "id": "4cdec3c5",
   "metadata": {},
   "outputs": [],
   "source": [
    "# ====================================================\n",
    "# 2. 환자의 BMI를 예측하기 위하여 회귀나무 사용.\n",
    "# 이때 혈당, 혈압, 피부 두께를 독립변수로 했을 경우 RMSE?\n",
    "# train:test = 8:2\n",
    "# seed = 123\n",
    "\n",
    "# 정답: 9.9\n",
    "# ====================================================\n",
    "df = pd.read_csv(\"Data/diabetes.csv\")"
   ]
  },
  {
   "cell_type": "code",
   "execution_count": 17,
   "id": "529bd957",
   "metadata": {},
   "outputs": [],
   "source": [
    "df_train, df_test = train_test_split(df, train_size=0.8, random_state = 123)"
   ]
  },
  {
   "cell_type": "code",
   "execution_count": 19,
   "id": "8854eac6",
   "metadata": {},
   "outputs": [
    {
     "data": {
      "text/plain": [
       "array([30.8, 28.6, 33.8, 32.2])"
      ]
     },
     "execution_count": 19,
     "metadata": {},
     "output_type": "execute_result"
    }
   ],
   "source": [
    "model = DecisionTreeRegressor(random_state = 123).fit(X = df_train.loc[:, [\"Glucose\", \"BloodPressure\", \"SkinThickness\"]],\n",
    "                                                      y = df_train[\"BMI\"])\n",
    "pred = model.predict(df_test.loc[:, [\"Glucose\", \"BloodPressure\", \"SkinThickness\"]])\n",
    "pred[:4]"
   ]
  },
  {
   "cell_type": "code",
   "execution_count": 20,
   "id": "7c22f6bd",
   "metadata": {},
   "outputs": [
    {
     "data": {
      "text/plain": [
       "9.924605211306321"
      ]
     },
     "execution_count": 20,
     "metadata": {},
     "output_type": "execute_result"
    }
   ],
   "source": [
    "from sklearn.metrics import mean_squared_error\n",
    "mean_squared_error(y_pred = pred, y_true = df_test[\"BMI\"]) ** 0.5"
   ]
  },
  {
   "cell_type": "code",
   "execution_count": 21,
   "id": "94665ce0",
   "metadata": {},
   "outputs": [],
   "source": [
    "# ====================================================\n",
    "# 3. 분류나무의 파라미터를 바꿔가면서 성능 평가\n",
    "# 당뇨 발병 여부를 종속변수로 하고 \n",
    "# 혈당, 혈압, 임신 횟수, BMI, 나이를 독립변수로 하고\n",
    "# Depth를 3에서 6까지 변화시킬 때 그 결과로 틀린 것은?\n",
    "# train:test = 7:3\n",
    "# seed = 345\n",
    "\n",
    "# 1) Depth 3, 정확도: 0.77\n",
    "# 2) Depth 4, 정확도: 0.76\n",
    "# 3) Depth 5, 정확도: 0.76\n",
    "# 4) Depth 6, 정확도: 0.78\n",
    "# ====================================================\n",
    "df = pd.read_csv(\"Data/diabetes.csv\")"
   ]
  },
  {
   "cell_type": "code",
   "execution_count": 22,
   "id": "0503f631",
   "metadata": {},
   "outputs": [],
   "source": [
    "df_train, df_test = train_test_split(df, train_size=0.7, random_state = 345)"
   ]
  },
  {
   "cell_type": "code",
   "execution_count": 24,
   "id": "2aa6517c",
   "metadata": {},
   "outputs": [
    {
     "data": {
      "text/html": [
       "<div>\n",
       "<style scoped>\n",
       "    .dataframe tbody tr th:only-of-type {\n",
       "        vertical-align: middle;\n",
       "    }\n",
       "\n",
       "    .dataframe tbody tr th {\n",
       "        vertical-align: top;\n",
       "    }\n",
       "\n",
       "    .dataframe thead th {\n",
       "        text-align: right;\n",
       "    }\n",
       "</style>\n",
       "<table border=\"1\" class=\"dataframe\">\n",
       "  <thead>\n",
       "    <tr style=\"text-align: right;\">\n",
       "      <th></th>\n",
       "      <th>depth</th>\n",
       "      <th>accs</th>\n",
       "    </tr>\n",
       "  </thead>\n",
       "  <tbody>\n",
       "    <tr>\n",
       "      <th>0</th>\n",
       "      <td>3</td>\n",
       "      <td>0.77</td>\n",
       "    </tr>\n",
       "    <tr>\n",
       "      <th>1</th>\n",
       "      <td>4</td>\n",
       "      <td>0.76</td>\n",
       "    </tr>\n",
       "    <tr>\n",
       "      <th>2</th>\n",
       "      <td>5</td>\n",
       "      <td>0.76</td>\n",
       "    </tr>\n",
       "    <tr>\n",
       "      <th>3</th>\n",
       "      <td>6</td>\n",
       "      <td>0.77</td>\n",
       "    </tr>\n",
       "  </tbody>\n",
       "</table>\n",
       "</div>"
      ],
      "text/plain": [
       "   depth  accs\n",
       "0      3  0.77\n",
       "1      4  0.76\n",
       "2      5  0.76\n",
       "3      6  0.77"
      ]
     },
     "execution_count": 24,
     "metadata": {},
     "output_type": "execute_result"
    }
   ],
   "source": [
    "cols = [\"Glucose\", \"BloodPressure\", \"Pregnancies\", \"BMI\", \"Age\"]\n",
    "\n",
    "depth_list = [3, 4, 5, 6]\n",
    "accs = []\n",
    "for depth in depth_list:\n",
    "    model = DecisionTreeClassifier(max_depth = depth,\n",
    "                                  random_state = 345)\n",
    "    model.fit(X = df_train.loc[:, cols],\n",
    "              y = df_train[\"Outcome\"])\n",
    "    pred = model.predict(df_test.loc[:, cols])\n",
    "    accs = accs + [accuracy_score(y_pred = pred, y_true = df_test[\"Outcome\"])]\n",
    "    \n",
    "df_score = pd.DataFrame({\"depth\": depth_list,\n",
    "                         \"accs\": accs})\n",
    "df_score[\"accs\"] = df_score[\"accs\"].round(2)\n",
    "df_score"
   ]
  }
 ],
 "metadata": {
  "kernelspec": {
   "display_name": "Python 3 (ipykernel)",
   "language": "python",
   "name": "python3"
  },
  "language_info": {
   "codemirror_mode": {
    "name": "ipython",
    "version": 3
   },
   "file_extension": ".py",
   "mimetype": "text/x-python",
   "name": "python",
   "nbconvert_exporter": "python",
   "pygments_lexer": "ipython3",
   "version": "3.9.7"
  }
 },
 "nbformat": 4,
 "nbformat_minor": 5
}
